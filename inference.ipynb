{
 "cells": [
  {
   "cell_type": "code",
   "execution_count": 2,
   "metadata": {
    "collapsed": false
   },
   "outputs": [],
   "source": [
    "import numpy as np\n",
    "import matplotlib.pyplot as plt\n",
    "import matplotlib.cm as cm\n",
    "import scipy.io\n",
    "import sys\n",
    "%matplotlib inline\n",
    "\n",
    "# Make sure that caffe is on the python path:\n",
    "caffe_root = '../../'  # this file is expected to be in {caffe_root}/examples                \n",
    "sys.path.insert(0, caffe_root + 'python')\n",
    "import caffe\n",
    "from caffe.proto import caffe_pb2 \n",
    "# iclude lib that's installed locally\n",
    "sys.path.append('/n/shokuji/dd/cecilia/.local/lib/python2.6/site-packages/')\n",
    "# import lmdb\n",
    "\n",
    "plt.rcParams['figure.figsize'] = (12, 16)\n",
    "plt.rcParams['image.interpolation'] = 'nearest'\n",
    "plt.rcParams['image.cmap'] = 'gray'\n",
    "\n",
    "import os\n",
    "\n",
    "# utility function: plot multiple images arranging in tiles.\n",
    "def plot_images(images, tile_shape, cmap = cm.Greys_r):\n",
    "    assert images.shape[0] <= (tile_shape[0]* tile_shape[1])\n",
    "    from mpl_toolkits.axes_grid1 import ImageGrid\n",
    "    fig = plt.figure()\n",
    "    grid = ImageGrid(fig, 111,  nrows_ncols = tile_shape ) \n",
    "    for i in range(images.shape[0]):\n",
    "        grd = grid[i]\n",
    "        grd.imshow(images[i], cmap=cmap)"
   ]
  },
  {
   "cell_type": "code",
   "execution_count": 3,
   "metadata": {
    "collapsed": false
   },
   "outputs": [
    {
     "data": {
      "text/plain": [
       "[('label', (1, 1)),\n",
       " ('view1', (1, 1, 128, 128)),\n",
       " ('view_pair', (1, 1, 128, 128)),\n",
       " ('conv1', (1, 32, 116, 116)),\n",
       " ('pool1', (1, 32, 29, 29)),\n",
       " ('conv2', (1, 64, 23, 23)),\n",
       " ('pool2', (1, 64, 12, 12)),\n",
       " ('conv3', (1, 256, 10, 10)),\n",
       " ('pool3', (1, 256, 5, 5)),\n",
       " ('ip1', (1, 2048)),\n",
       " ('feat', (1, 64)),\n",
       " ('conv1_p', (1, 32, 116, 116)),\n",
       " ('pool1_p', (1, 32, 29, 29)),\n",
       " ('conv2_p', (1, 64, 23, 23)),\n",
       " ('pool2_p', (1, 64, 12, 12)),\n",
       " ('conv3_p', (1, 256, 10, 10)),\n",
       " ('pool3_p', (1, 256, 5, 5)),\n",
       " ('ip1_p', (1, 2048)),\n",
       " ('feat_p', (1, 64))]"
      ]
     },
     "execution_count": 3,
     "metadata": {},
     "output_type": "execute_result"
    }
   ],
   "source": [
    "# load pre-trained model and the deploy file\n",
    "caffe.set_mode_cpu()\n",
    "net = caffe.Net(caffe_root + 'projects/sketchto3D/sketch_only_test.prototxt',\n",
    "                caffe_root + 'projects/sketchto3D/caffemodel/sketch_only_iter_5000.caffemodel',\n",
    "                caffe.TEST)\n",
    "\n",
    "# dimentions of filters in the trained model\n",
    "[(k,(v[0].data.shape, v[1].data.shape)) for k, v in net.params.items()]\n",
    "\n",
    "#  The layer features and their shapes (1 is the batch size, corresponding to the single input image in this example).\n",
    "[(k, v.data.shape) for k, v in net.blobs.items()]\n"
   ]
  },
  {
   "cell_type": "code",
   "execution_count": 23,
   "metadata": {
    "collapsed": false
   },
   "outputs": [],
   "source": [
    "# feed test data forward to get the feature vectors\n",
    "\n",
    "num_data = 2700\n",
    "feat_s1 = np.zeros((num_data, 64))\n",
    "feat_s2 = np.zeros((num_data, 64))\n",
    "feat_v1 = np.zeros((num_data, 64))\n",
    "feat_v2 = np.zeros((num_data, 64))\n",
    "\n",
    "sketch1 = np.zeros((num_data, 128, 128))\n",
    "sketch2 = np.zeros((num_data, 128, 128))\n",
    "\n",
    "view1 = np.zeros((num_data, 128, 128))\n",
    "view2 = np.zeros((num_data, 128, 128))\n",
    "\n",
    "for i in range (0, num_data):\n",
    "    out = net.forward()\n",
    "#     sketch1[i, :] = net.blobs['sketch1'].data[0]\n",
    "#     sketch2[i, :] = net.blobs['sketch_pair'].data[0]\n",
    "    view1[i, :] = net.blobs['view1'].data[0]\n",
    "    view2[i, :] = net.blobs['view_pair'].data[0]\n",
    "    \n",
    "    feat_s1[i, :] = net.blobs['feat'].data[0]\n",
    "    feat_s2[i, :] = net.blobs['feat_p'].data[0]\n",
    "#     feat_v1[i, :] = net.blobs['feat_v'].data[0]\n",
    "#     feat_v2[i, :] = net.blobs['feat_vp'].data[0]\n"
   ]
  },
  {
   "cell_type": "code",
   "execution_count": 44,
   "metadata": {
    "collapsed": false
   },
   "outputs": [],
   "source": [
    "featv1_sketch_only = feat_s1\n",
    "featv2_sketch_only = feat_s2\n",
    "np.save('./trained_feature/featv1_sketch_only.npy','featv1_sketch_only')\n",
    "np.save('./trained_feature/featv2_sketch_only.npy','featv2_sketch_only')"
   ]
  },
  {
   "cell_type": "code",
   "execution_count": 45,
   "metadata": {
    "collapsed": true
   },
   "outputs": [],
   "source": [
    "np.save('./trained_feature/featv1_sketch_only.mat','featv1_sketch_only')\n",
    "np.save('./trained_feature/featv2_sketch_only.mat','featv2_sketch_only')"
   ]
  },
  {
   "cell_type": "code",
   "execution_count": 25,
   "metadata": {
    "collapsed": false
   },
   "outputs": [
    {
     "name": "stdout",
     "output_type": "stream",
     "text": [
      "[[2687    6    3]\n",
      " [   3    6 1166]\n",
      " [2694 2685 1166]\n",
      " ..., \n",
      " [1993 2328 2343]\n",
      " [2693 1150 1174]\n",
      " [2695 2699 1740]]\n",
      "[[ 0.          0.83823398  0.83823398]\n",
      " [ 0.83854247  0.83854247  0.8403327 ]\n",
      " [ 0.          0.5892179   0.64382147]\n",
      " ..., \n",
      " [ 0.889939    0.93505202  0.93505202]\n",
      " [ 0.          0.69372858  0.69372858]\n",
      " [ 0.61665378  0.66490519  0.80893605]]\n"
     ]
    }
   ],
   "source": [
    "from sklearn.neighbors import NearestNeighbors\n",
    "\n",
    "nbrs = NearestNeighbors(n_neighbors=3, algorithm='ball_tree').fit(feat_s1)\n",
    "distances, indices = nbrs.kneighbors(feat_s2)\n",
    "\n",
    "print indices\n",
    "print distances"
   ]
  },
  {
   "cell_type": "code",
   "execution_count": 58,
   "metadata": {
    "collapsed": false
   },
   "outputs": [
    {
     "name": "stdout",
     "output_type": "stream",
     "text": [
      "[ 269 1094 2620]\n"
     ]
    },
    {
     "data": {
      "text/plain": [
       "<matplotlib.image.AxesImage at 0x7f22598d08d0>"
      ]
     },
     "execution_count": 58,
     "metadata": {},
     "output_type": "execute_result"
    },
    {
     "data": {
      "image/png": "[encoded data removed]",
      "text/plain": [
       "<matplotlib.figure.Figure at 0x7f2259a43910>"
      ]
     },
     "metadata": {},
     "output_type": "display_data"
    }
   ],
   "source": [
    "ind = 255\n",
    "print indices[ind,:]\n",
    "image1 = view2[ind,:]\n",
    "image2 = view1[indices[ind,0],:]\n",
    "image3 = view1[indices[ind,1],:]\n",
    "image4 = view1[indices[ind,2],:]\n",
    "\n",
    "plt.subplot(1,4,1)\n",
    "plt.imshow(image1.transpose())\n",
    "plt.subplot(1,4,2)\n",
    "plt.imshow(image2.transpose())\n",
    "plt.subplot(1,4,3)\n",
    "plt.imshow(image3.transpose())\n",
    "plt.subplot(1,4,4)\n",
    "plt.imshow(image4.transpose())"
   ]
  },
  {
   "cell_type": "code",
   "execution_count": 3,
   "metadata": {
    "collapsed": false
   },
   "outputs": [],
   "source": [
    "import numpy as np\n",
    "a = ((3,4,2,2))\n",
    "np.save('a.npy','a')"
   ]
  }
 ],
 "metadata": {
  "kernelspec": {
   "display_name": "Python 2",
   "language": "python",
   "name": "python2"
  },
  "language_info": {
   "codemirror_mode": {
    "name": "ipython",
    "version": 2
   },
   "file_extension": ".py",
   "mimetype": "text/x-python",
   "name": "python",
   "nbconvert_exporter": "python",
   "pygments_lexer": "ipython2",
   "version": "2.7.10"
  }
 },
 "nbformat": 4,
 "nbformat_minor": 0
}
